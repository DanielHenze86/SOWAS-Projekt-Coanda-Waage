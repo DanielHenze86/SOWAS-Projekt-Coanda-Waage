{
 "cells": [
  {
   "cell_type": "code",
   "execution_count": 10,
   "id": "7aa8b175",
   "metadata": {},
   "outputs": [
    {
     "data": {
      "image/png": "[encoded data removed]",
      "text/latex": [
       "$\\displaystyle \\left(\\frac{a}{a x + 1} + \\frac{m}{m x - v}\\right) f{\\left(x \\right)} + \\frac{d}{d x} f{\\left(x \\right)} = 0$"
      ],
      "text/plain": [
       "⎛   a         m   ⎞        d           \n",
       "⎜─────── + ───────⎟⋅f(x) + ──(f(x)) = 0\n",
       "⎝a⋅x + 1   m⋅x - v⎠        dx          "
      ]
     },
     "metadata": {},
     "output_type": "display_data"
    },
    {
     "data": {
      "image/png": "[encoded data removed]",
      "text/latex": [
       "$\\displaystyle f{\\left(x \\right)} = \\frac{C_{1}}{a m x^{2} - a v x + m x - v}$"
      ],
      "text/plain": [
       "                  C₁           \n",
       "f(x) = ────────────────────────\n",
       "            2                  \n",
       "       a⋅m⋅x  - a⋅v⋅x + m⋅x - v"
      ]
     },
     "execution_count": 10,
     "metadata": {},
     "output_type": "execute_result"
    }
   ],
   "source": [
    "from sympy.interactive import printing \n",
    "printing.init_printing(use_latex=True)\n",
    "from sympy import *\n",
    "import sympy as sp\n",
    "\n",
    "x = sp.symbols('x')\n",
    "m = sp.symbols('m')\n",
    "v = sp.symbols('v')\n",
    "a = sp.symbols('a')\n",
    "\n",
    "f= sp.Function('f')(x)\n",
    "diffeq=Eq(f.diff(x)+((a/(1+a*x)+m/(m*x-v)))*f,0)\n",
    "display(diffeq)\n",
    "\n",
    "dsolve(diffeq,f)\n"
   ]
  },
  {
   "cell_type": "code",
   "execution_count": null,
   "id": "07bcacad",
   "metadata": {},
   "outputs": [],
   "source": []
  }
 ],
 "metadata": {
  "kernelspec": {
   "display_name": "Python 3",
   "language": "python",
   "name": "python3"
  },
  "language_info": {
   "codemirror_mode": {
    "name": "ipython",
    "version": 3
   },
   "file_extension": ".py",
   "mimetype": "text/x-python",
   "name": "python",
   "nbconvert_exporter": "python",
   "pygments_lexer": "ipython3",
   "version": "3.9.1"
  }
 },
 "nbformat": 4,
 "nbformat_minor": 5
}
